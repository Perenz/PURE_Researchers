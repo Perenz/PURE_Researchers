{
 "cells": [
  {
   "cell_type": "code",
   "execution_count": 1,
   "metadata": {
    "tags": []
   },
   "outputs": [],
   "source": [
    "import pandas as pd"
   ]
  },
  {
   "cell_type": "code",
   "execution_count": 3,
   "metadata": {
    "tags": []
   },
   "outputs": [
    {
     "data": {
      "text/html": [
       "<div>\n",
       "<style scoped>\n",
       "    .dataframe tbody tr th:only-of-type {\n",
       "        vertical-align: middle;\n",
       "    }\n",
       "\n",
       "    .dataframe tbody tr th {\n",
       "        vertical-align: top;\n",
       "    }\n",
       "\n",
       "    .dataframe thead th {\n",
       "        text-align: right;\n",
       "    }\n",
       "</style>\n",
       "<table border=\"1\" class=\"dataframe\">\n",
       "  <thead>\n",
       "    <tr style=\"text-align: right;\">\n",
       "      <th></th>\n",
       "      <th>Contributors-0</th>\n",
       "    </tr>\n",
       "  </thead>\n",
       "  <tbody>\n",
       "    <tr>\n",
       "      <th>0</th>\n",
       "      <td>Alessandro Abate, Carlos Esteban Budde:Formal ...</td>\n",
       "    </tr>\n",
       "    <tr>\n",
       "      <th>1</th>\n",
       "      <td>R. Abdel Kader:Databases (Former) - Former org...</td>\n",
       "    </tr>\n",
       "    <tr>\n",
       "      <th>2</th>\n",
       "      <td>Riham Abdel Kader:Databases (Former) - Former ...</td>\n",
       "    </tr>\n",
       "    <tr>\n",
       "      <th>3</th>\n",
       "      <td>R. Abdel Kader:Databases (Former) - Former org...</td>\n",
       "    </tr>\n",
       "    <tr>\n",
       "      <th>4</th>\n",
       "      <td>Riham Abdel Kader:Databases (Former) - Former ...</td>\n",
       "    </tr>\n",
       "  </tbody>\n",
       "</table>\n",
       "</div>"
      ],
      "text/plain": [
       "                                      Contributors-0\n",
       "0  Alessandro Abate, Carlos Esteban Budde:Formal ...\n",
       "1  R. Abdel Kader:Databases (Former) - Former org...\n",
       "2  Riham Abdel Kader:Databases (Former) - Former ...\n",
       "3  R. Abdel Kader:Databases (Former) - Former org...\n",
       "4  Riham Abdel Kader:Databases (Former) - Former ..."
      ]
     },
     "execution_count": 3,
     "metadata": {},
     "output_type": "execute_result"
    }
   ],
   "source": [
    "authors = pd.read_excel(\"../data/Authors_DMB_tbv_studenten_project-23_09_21.xls\")\n",
    "authors.head()"
   ]
  },
  {
   "cell_type": "code",
   "execution_count": 4,
   "metadata": {
    "tags": []
   },
   "outputs": [
    {
     "data": {
      "text/plain": [
       "0    Alessandro Abate, AuthorExternal person, Carlo...\n",
       "1    R. Abdel Kader, AuthorInternal person, Maurice...\n",
       "2    Riham Abdel Kader (R. Abdel Kader), AuthorInte...\n",
       "3    R. Abdel Kader, AuthorInternal person, Maurice...\n",
       "4    Riham Abdel Kader (R. Abdel Kader), AuthorInte...\n",
       "Name: Contributors-1, dtype: object"
      ]
     },
     "execution_count": 4,
     "metadata": {},
     "output_type": "execute_result"
    }
   ],
   "source": [
    "publications = pd.read_excel(\"../data/Output_DMB_tbv_studenten_project-20_09_21.xls\")\n",
    "contributors = publications['Contributors-1']\n",
    "contributors.head()"
   ]
  },
  {
   "cell_type": "markdown",
   "metadata": {},
   "source": [
    "# Get the list of authors"
   ]
  },
  {
   "cell_type": "code",
   "execution_count": 5,
   "metadata": {
    "tags": []
   },
   "outputs": [
    {
     "name": "stdout",
     "output_type": "stream",
     "text": [
      "Alessandro Abate, AuthorExternal person, Carlos Esteban Budde, AuthorInternal person, Nathalie Cauchi, AuthorExternal person, Arnaud van Harmelen, AuthorInternal person, Khaza Anuarul Hoque, AuthorExternal person, Mariëlle Ida Antoinette Stoelinga (Mariëlle I.A. Stoelinga), AuthorInternal person\n"
     ]
    }
   ],
   "source": [
    "#Example of one record\n",
    "print(contributors[0])\n",
    "#<Name> , <Type> , ..."
   ]
  },
  {
   "cell_type": "code",
   "execution_count": 6,
   "metadata": {
    "tags": []
   },
   "outputs": [
    {
     "name": "stdout",
     "output_type": "stream",
     "text": [
      "{'Corresponding AuthorInternal person', 'ProducerExternal person', 'OtherInternal person', 'EditorExternal person', 'Corresponding AuthorCorresponding authorExternal person', 'OtherExternal person', 'InventorInternal person', 'Corresponding AuthorExternal person', 'Corresponding AuthorCorresponding authorInternal person', 'AuthorCorresponding authorExternal person', 'InventorExternal person', 'AuthorExternal person', 'EditorInternal person', 'AuthorInternal person', 'AuthorCorresponding authorInternal person', 'ContributorCorresponding authorInternal person'}\n"
     ]
    }
   ],
   "source": [
    "#Split on the commas\n",
    "#print([doc.strip() for doc in contributors[0].split(',')])\n",
    "\n",
    "#Check for integrity in the format\n",
    "for contr in contributors:\n",
    "    if len(contr.split(','))%2:\n",
    "        print(\"Different format: \", contr)\n",
    "\n",
    "#Check for types of authors\n",
    "author_type_set = set()\n",
    "for contr in contributors:\n",
    "    doc_list = [doc.strip() for doc in contr.split(',')]\n",
    "    for i in range(len(doc_list)):\n",
    "        if i%2:\n",
    "            author_type_set.add(doc_list[i])\n",
    "print(author_type_set)"
   ]
  },
  {
   "cell_type": "code",
   "execution_count": 10,
   "metadata": {
    "tags": []
   },
   "outputs": [
    {
     "name": "stdout",
     "output_type": "stream",
     "text": [
      "1393\n",
      "1023\n"
     ]
    }
   ],
   "source": [
    "contributors_set = set(contributors)\n",
    "print(len(contributors))\n",
    "print(len(contributors_set))"
   ]
  },
  {
   "cell_type": "code",
   "execution_count": null,
   "metadata": {},
   "outputs": [],
   "source": []
  }
 ],
 "metadata": {
  "kernelspec": {
   "display_name": "v-env",
   "language": "python",
   "name": "v-env"
  },
  "language_info": {
   "codemirror_mode": {
    "name": "ipython",
    "version": 3
   },
   "file_extension": ".py",
   "mimetype": "text/x-python",
   "name": "python",
   "nbconvert_exporter": "python",
   "pygments_lexer": "ipython3",
   "version": "3.9.7"
  }
 },
 "nbformat": 4,
 "nbformat_minor": 2
}